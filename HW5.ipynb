{
  "nbformat": 4,
  "nbformat_minor": 0,
  "metadata": {
    "colab": {
      "provenance": [],
      "toc_visible": true
    },
    "kernelspec": {
      "name": "python3",
      "display_name": "Python 3"
    },
    "language_info": {
      "name": "python"
    }
  },
  "cells": [
    {
      "cell_type": "markdown",
      "source": [
        "#3. 힙"
      ],
      "metadata": {
        "id": "6fvqxdaX4Z9M"
      }
    },
    {
      "cell_type": "code",
      "source": [
        "# 먼저 Heap 클래스 정의\n",
        "class Heap:\n",
        "    def __init__(self, *args):\n",
        "        if len(args) != 0:\n",
        "            self.__A = args[0]\n",
        "        else:\n",
        "            self.__A = []\n",
        "\n",
        "    def insert(self, x):\n",
        "        self.__A.append(x)\n",
        "        self.__percolateUp(len(self.__A) - 1)\n",
        "\n",
        "    def __percolateUp(self, i: int):\n",
        "        parent = (i - 1) // 2\n",
        "        if i > 0 and self.__A[i] > self.__A[parent]:\n",
        "            self.__A[i], self.__A[parent] = self.__A[parent], self.__A[i]\n",
        "            self.__percolateUp(parent)\n",
        "\n",
        "    def deleteMax(self):\n",
        "        if not self.isEmpty():\n",
        "            max_val = self.__A[0]\n",
        "            self.__A[0] = self.__A.pop()\n",
        "            self.__percolateDown(0)\n",
        "            return max_val\n",
        "        else:\n",
        "            return None\n",
        "\n",
        "    def __percolateDown(self, i: int):\n",
        "        child = 2 * i + 1\n",
        "        right = 2 * i + 2\n",
        "        if child <= len(self.__A) - 1:\n",
        "            if right <= len(self.__A) - 1 and self.__A[child] < self.__A[right]:\n",
        "                child = right\n",
        "            if self.__A[i] < self.__A[child]:\n",
        "                self.__A[i], self.__A[child] = self.__A[child], self.__A[i]\n",
        "                self.__percolateDown(child)\n",
        "\n",
        "    def isEmpty(self) -> bool:\n",
        "        return len(self.__A) == 0\n",
        "\n",
        "\n",
        "# 생일 정보를 읽고 힙에 저장\n",
        "import csv\n",
        "from datetime import datetime\n",
        "\n",
        "heap = Heap()\n",
        "\n",
        "with open('/Users/kimnarim/Downloads/DS_Birthdaydata_utf8.csv', newline='', encoding='utf-8') as csvfile:\n",
        "    reader = csv.DictReader(csvfile)\n",
        "    for row in reader:\n",
        "        name = row['이름'].strip()\n",
        "        birthday_str = row['생년월일8자리(예.20040101)'].strip()\n",
        "\n",
        "        if birthday_str:  # 생일 값이 비어있지 않으면 처리\n",
        "            try:\n",
        "                birthday = datetime.strptime(birthday_str, \"%Y%m%d\")\n",
        "                heap.insert((birthday, name))\n",
        "            except ValueError:\n",
        "                print(f\"⚠️ 생일 형식 오류: {birthday_str}\")\n",
        "\n",
        "# 생일이 가장 늦은 10명 출력\n",
        "print(\"🎉 생일이 가장 늦은 10명:\")\n",
        "for _ in range(10):\n",
        "    if not heap.isEmpty():\n",
        "        birthday, name = heap.deleteMax()\n",
        "        print(f\"{name} ({birthday.strftime('%Y-%m-%d')})\")\n"
      ],
      "metadata": {
        "id": "41srtsGbkP29"
      },
      "execution_count": null,
      "outputs": []
    },
    {
      "cell_type": "markdown",
      "source": [
        "🎉 생일이 가장 늦은 10명:\n",
        "신수민 (2005-12-30)\n",
        "이서영 (2005-12-25)\n",
        "강민주 (2005-12-14)\n",
        "김민경 (2005-12-02)\n",
        "이서영 (2005-11-12)\n",
        "배시은 (2005-11-02)\n",
        "김여원 (2005-10-31)\n",
        "이서진 (2005-10-28)\n",
        "서홍빈 (2005-10-24)\n",
        "김예빈 (2005-10-19)"
      ],
      "metadata": {
        "id": "M-LxflLgkThC"
      }
    },
    {
      "cell_type": "markdown",
      "source": [
        "# 4. 리스트"
      ],
      "metadata": {
        "id": "PctaQN684aUj"
      }
    },
    {
      "cell_type": "code",
      "source": [
        "import csv\n",
        "from datetime import datetime\n",
        "\n",
        "# 원형 이중 연결 리스트 클래스 정의\n",
        "class BidirectNode:\n",
        "    def __init__(self, item, prev, next):\n",
        "        self.item = item\n",
        "        self.prev = prev\n",
        "        self.next = next\n",
        "\n",
        "class CircularDoublyLinkedList:\n",
        "    def __init__(self):\n",
        "        self.__head = BidirectNode(\"dummy\", None, None)\n",
        "        self.__head.prev = self.__head\n",
        "        self.__head.next = self.__head\n",
        "        self.__numItems = 0\n",
        "\n",
        "    def append(self, newItem):\n",
        "        prev = self.__head.prev\n",
        "        newNode = BidirectNode(newItem, prev, self.__head)\n",
        "        prev.next = newNode\n",
        "        self.__head.prev = newNode\n",
        "        self.__numItems += 1\n",
        "\n",
        "    def __iter__(self):\n",
        "        return CircularDoublyLinkedListIterator(self)\n",
        "\n",
        "class CircularDoublyLinkedListIterator:\n",
        "    def __init__(self, alist):\n",
        "        self.__head = alist._CircularDoublyLinkedList__head\n",
        "        self.iterPosition = self.__head.next\n",
        "\n",
        "    def __next__(self):\n",
        "        if self.iterPosition == self.__head:\n",
        "            raise StopIteration\n",
        "        else:\n",
        "            item = self.iterPosition.item\n",
        "            self.iterPosition = self.iterPosition.next\n",
        "            return item\n",
        "\n",
        "# 출력할 친구 이름 리스트\n",
        "target_names = [\n",
        "    \"김나림\", \"안소민\", \"김효리\", \"박찬미\", \"박혜린\", \"이가연\", \"이서현\",\n",
        "    \"이수빈\", \"이예림\", \"이원진\", \"이진\", \"이지영\", \"이채민\", \"임서영\", \"전민서\"\n",
        "]\n",
        "\n",
        "# 원형 연결 리스트 생성\n",
        "birthday_list = CircularDoublyLinkedList()\n",
        "\n",
        "# CSV 파일의 절대 경로\n",
        "csv_path = \"/Users/kimnarim/Downloads/DS_Birthdaydata_utf8.csv\"\n",
        "\n",
        "# CSV 파일 읽기\n",
        "with open(csv_path, newline='', encoding='utf-8') as csvfile:\n",
        "    reader = csv.reader(csvfile)\n",
        "    next(reader)  # 헤더 건너뛰기\n",
        "\n",
        "    for row in reader:\n",
        "        if len(row) >= 3:\n",
        "            name = row[1].strip()\n",
        "            birthday = row[2].strip()\n",
        "\n",
        "            if name in target_names and birthday:\n",
        "                try:\n",
        "                    birthday_formatted = datetime.strptime(birthday, \"%Y%m%d\").strftime(\"%Y-%m-%d\")\n",
        "                    birthday_list.append((name, birthday_formatted))\n",
        "                except ValueError:\n",
        "                    continue\n",
        "\n",
        "# 결과 출력\n",
        "print(\"우리 조 이름과 생년월일:\")\n",
        "for name, bday in birthday_list:\n",
        "    print(f\"{name}: {bday}\")\n"
      ],
      "metadata": {
        "id": "2gAoY2fKkdaH"
      },
      "execution_count": null,
      "outputs": []
    },
    {
      "cell_type": "markdown",
      "source": [
        "김나림: 2003-08-05\n",
        "김효리: 2001-12-12\n",
        "박찬미: 2000-05-07\n",
        "박혜린: 2003-06-03\n",
        "안소민: 2004-04-20\n",
        "이가연: 2004-09-27\n",
        "이서현: 2004-06-09\n",
        "이수빈: 2004-09-10\n",
        "이예림: 2002-12-15\n",
        "이원진: 2005-06-02\n",
        "이진: 2002-04-15\n",
        "임서영: 2005-02-07\n",
        "전민서: 2004-03-18"
      ],
      "metadata": {
        "id": "3p-KnBAdkdv-"
      }
    },
    {
      "cell_type": "markdown",
      "source": [
        "# 5. 교재 연습문제"
      ],
      "metadata": {
        "id": "Bl7CMR5z4cAU"
      }
    },
    {
      "cell_type": "markdown",
      "source": [
        "1.\n",
        "가질 수 없다. 최대 힙의 규칙에 어긋나기 때문. 무조건 루트의 값이 자식노드보다 크거나 같아야한다."
      ],
      "metadata": {
        "id": "jnXR444SjJC8"
      }
    },
    {
      "cell_type": "markdown",
      "source": [
        "2.\n",
        "아니다. 완전 이진트리 구조에서 부모노드>=자식노드 관계만 만족시키면 되지 왼쪽 오른쪽의 크기 관계는 상관 없다."
      ],
      "metadata": {
        "id": "KxOW894Akx6C"
      }
    },
    {
      "cell_type": "markdown",
      "source": [
        "3. n-(n/2)개"
      ],
      "metadata": {
        "id": "IW0GINKFlO25"
      }
    },
    {
      "cell_type": "markdown",
      "source": [
        "4.\n",
        "최악 : Θ(log n)\n",
        "최선 : Θ(1)"
      ],
      "metadata": {
        "id": "6PUt9t7an3AH"
      }
    },
    {
      "cell_type": "markdown",
      "source": [
        "5. 간단하다. 힙은 배열로 되어있기 때문에 마지막 원소를 pop()하기만 하면 된다."
      ],
      "metadata": {
        "id": "h0VMzDJ-n3yp"
      }
    },
    {
      "cell_type": "markdown",
      "source": [
        "6.본문에 제시한 방법이 더 효율적이다. 본문에 제시한 것은 O(n)이고 문제의 방법은 O(nlogn)이기 때문이다."
      ],
      "metadata": {
        "id": "-UWIf49rn45v"
      }
    },
    {
      "cell_type": "markdown",
      "source": [
        "7.\n",
        "현재 인덱스를 i라고 하면\n",
        "반복:\n",
        "부모 인덱스 p = (i - 1) / 2\n",
        "heap[i] > heap[p]이면 둘을 swap\n",
        "인덱스를 i = p로 갱신\n",
        "부모보다 작거나 루트에 도달하면 종료\n",
        "트리의 깊이만큼, 즉 logn만큼의 시간이 걸린다."
      ],
      "metadata": {
        "id": "21xeuKGfn5gy"
      }
    },
    {
      "cell_type": "markdown",
      "source": [
        "# 6. LeetCode 703.Kth Largest Element in Stream"
      ],
      "metadata": {
        "id": "cK7L63a041SS"
      }
    },
    {
      "cell_type": "code",
      "source": [
        "import heapq\n",
        "\n",
        "class KthLargest:\n",
        "\n",
        "    def __init__(self, k: int, nums: list[int]):\n",
        "        self.k = k\n",
        "        self.min_heap = []\n",
        "\n",
        "        for num in nums:\n",
        "            self.add(num)\n",
        "\n",
        "    def add(self, val: int) -> int:\n",
        "\n",
        "        heapq.heappush(self.min_heap, val)\n",
        "\n",
        "\n",
        "        if len(self.min_heap) > self.k:\n",
        "            heapq.heappop(self.min_heap)\n",
        "\n",
        "\n",
        "        return self.min_heap[0]\n"
      ],
      "metadata": {
        "id": "zhi8U6rQ4pZm"
      },
      "execution_count": null,
      "outputs": []
    },
    {
      "cell_type": "markdown",
      "source": [],
      "metadata": {
        "id": "ni_q-OcElHrP"
      }
    }
  ]
}